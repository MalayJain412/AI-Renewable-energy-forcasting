{
 "cells": [
  {
   "cell_type": "code",
   "execution_count": 3,
   "metadata": {},
   "outputs": [
    {
     "name": "stdout",
     "output_type": "stream",
     "text": [
      "\n",
      "Random Forest Model Evaluation:\n",
      "Mean Squared Error (MSE): 975.02\n",
      "R² Score: 0.9991\n"
     ]
    },
    {
     "data": {
      "text/plain": [
       "['wind_power_rf_model.pkl']"
      ]
     },
     "execution_count": 3,
     "metadata": {},
     "output_type": "execute_result"
    }
   ],
   "source": [
    "import pandas as pd\n",
    "from sklearn.model_selection import train_test_split\n",
    "from sklearn.pipeline import Pipeline\n",
    "from sklearn.preprocessing import StandardScaler\n",
    "from sklearn.ensemble import RandomForestRegressor\n",
    "from sklearn.metrics import mean_squared_error, r2_score\n",
    "import joblib\n",
    "\n",
    "# Load dataset\n",
    "df = pd.read_csv(\"cleaned_wind_data.csv\")\n",
    "df['timestamp'] = pd.to_datetime(df['timestamp'])\n",
    "\n",
    "# Drop unwanted column\n",
    "df = df.drop(columns=['theoretical_output_kW'])\n",
    "\n",
    "# Define features and target\n",
    "features = ['wind_speed', 'temperature', 'RH', 'pressure', 'gust', 'wind_dir_dev', 'precipitation']\n",
    "target = 'actual_output_kW'\n",
    "\n",
    "X = df[features]\n",
    "y = df[target]\n",
    "\n",
    "# Split data\n",
    "X_train, X_test, y_train, y_test = train_test_split(X, y, test_size=0.2, random_state=42)\n",
    "\n",
    "# Pipeline with RandomForestRegressor (scaling optional for tree-based models)\n",
    "pipeline_rf = Pipeline([\n",
    "    ('scaler', StandardScaler()),\n",
    "    ('rf', RandomForestRegressor(n_estimators=100, random_state=42))\n",
    "])\n",
    "\n",
    "# Train model\n",
    "pipeline_rf.fit(X_train, y_train)\n",
    "\n",
    "# Predict and evaluate\n",
    "y_pred = pipeline_rf.predict(X_test)\n",
    "mse = mean_squared_error(y_test, y_pred)\n",
    "r2 = r2_score(y_test, y_pred)\n",
    "\n",
    "print(f\"\\nRandom Forest Model Evaluation:\")\n",
    "print(f\"Mean Squared Error (MSE): {mse:.2f}\")\n",
    "print(f\"R² Score: {r2:.4f}\")\n",
    "\n",
    "# Save pipeline\n",
    "joblib.dump(pipeline_rf, 'wind_power_rf_model.pkl')\n"
   ]
  },
  {
   "cell_type": "code",
   "execution_count": null,
   "metadata": {},
   "outputs": [],
   "source": [
    "from sklearn.model_selection import cross_val_score\n",
    "import numpy as np\n",
    "\n",
    "# Perform 5-fold cross-validation using R² score\n",
    "cv_scores = cross_val_score(pipeline_rf, X, y, cv=5, scoring='r2')\n",
    "\n",
    "# Print all R² scores\n",
    "print(\"R² scores for each fold:\", cv_scores)\n",
    "\n",
    "# Mean R² and standard deviation\n",
    "print(f\"\\n✅ Mean R² Score (Cross-Validated): {np.mean(cv_scores):.4f}\")\n",
    "print(f\"📉 Standard Deviation of R²: {np.std(cv_scores):.4f}\")\n"
   ]
  },
  {
   "cell_type": "code",
   "execution_count": null,
   "metadata": {},
   "outputs": [
    {
     "name": "stdout",
     "output_type": "stream",
     "text": [
      "\n",
      "🔮 Predicted actual_output_kW: 2514.57\n"
     ]
    },
    {
     "name": "stderr",
     "output_type": "stream",
     "text": [
      "d:\\NTPC Project\\Testing\\.venv\\lib\\site-packages\\sklearn\\base.py:465: UserWarning: X does not have valid feature names, but StandardScaler was fitted with feature names\n",
      "  warnings.warn(\n"
     ]
    }
   ],
   "source": [
    "import joblib\n",
    "\n",
    "def predict_random_input(pkl_file_path):\n",
    "    # Load the trained pipeline model\n",
    "    model = joblib.load(pkl_file_path)\n",
    "\n",
    "    # Define the features (same order used during training)\n",
    "    features = ['wind_speed', 'temperature', 'RH', 'pressure', 'gust', 'wind_dir_dev', 'precipitation']\n",
    "\n",
    "    # Generate random input (you can adjust ranges based on your dataset)\n",
    "    random_input = {\n",
    "        'wind_speed': 10,        # in m/s\n",
    "        'temperature': 30.45,      # in Celsius\n",
    "        'RH': 55.4,              # Relative Humidity %\n",
    "        'pressure': 957.44,      # in hPa\n",
    "        'gust': 15.46,              # wind gust in m/s\n",
    "        'wind_dir_dev': 120.45,     # direction deviation\n",
    "        'precipitation': 16.42      # mm/h\n",
    "    }\n",
    "\n",
    "    # Convert to list for model input\n",
    "    input_values = list(random_input.values())\n",
    "\n",
    "    # Predict\n",
    "    predicted_output = model.predict([input_values])[0]\n",
    "\n",
    "    print(f\"\\n🔮 Predicted actual_output_kW: {predicted_output:.2f}\")\n",
    "\n",
    "file = \"wind_power_rf_model.pkl\"\n",
    "predict_random_input(file)"
   ]
  },
  {
   "cell_type": "code",
   "execution_count": null,
   "metadata": {},
   "outputs": [],
   "source": []
  }
 ],
 "metadata": {
  "kernelspec": {
   "display_name": ".venv",
   "language": "python",
   "name": "python3"
  },
  "language_info": {
   "codemirror_mode": {
    "name": "ipython",
    "version": 3
   },
   "file_extension": ".py",
   "mimetype": "text/x-python",
   "name": "python",
   "nbconvert_exporter": "python",
   "pygments_lexer": "ipython3",
   "version": "3.10.0"
  }
 },
 "nbformat": 4,
 "nbformat_minor": 2
}
